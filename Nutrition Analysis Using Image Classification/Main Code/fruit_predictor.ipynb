{
 "cells": [
  {
   "cell_type": "code",
   "execution_count": 1,
   "metadata": {
    "scrolled": true
   },
   "outputs": [
    {
     "name": "stderr",
     "output_type": "stream",
     "text": [
      "Using TensorFlow backend.\n",
      "C:\\Users\\Goutham N\\anaconda3\\lib\\site-packages\\tensorflow\\python\\framework\\dtypes.py:516: FutureWarning: Passing (type, 1) or '1type' as a synonym of type is deprecated; in a future version of numpy, it will be understood as (type, (1,)) / '(1,)type'.\n",
      "  _np_qint8 = np.dtype([(\"qint8\", np.int8, 1)])\n",
      "C:\\Users\\Goutham N\\anaconda3\\lib\\site-packages\\tensorflow\\python\\framework\\dtypes.py:517: FutureWarning: Passing (type, 1) or '1type' as a synonym of type is deprecated; in a future version of numpy, it will be understood as (type, (1,)) / '(1,)type'.\n",
      "  _np_quint8 = np.dtype([(\"quint8\", np.uint8, 1)])\n",
      "C:\\Users\\Goutham N\\anaconda3\\lib\\site-packages\\tensorflow\\python\\framework\\dtypes.py:518: FutureWarning: Passing (type, 1) or '1type' as a synonym of type is deprecated; in a future version of numpy, it will be understood as (type, (1,)) / '(1,)type'.\n",
      "  _np_qint16 = np.dtype([(\"qint16\", np.int16, 1)])\n",
      "C:\\Users\\Goutham N\\anaconda3\\lib\\site-packages\\tensorflow\\python\\framework\\dtypes.py:519: FutureWarning: Passing (type, 1) or '1type' as a synonym of type is deprecated; in a future version of numpy, it will be understood as (type, (1,)) / '(1,)type'.\n",
      "  _np_quint16 = np.dtype([(\"quint16\", np.uint16, 1)])\n",
      "C:\\Users\\Goutham N\\anaconda3\\lib\\site-packages\\tensorflow\\python\\framework\\dtypes.py:520: FutureWarning: Passing (type, 1) or '1type' as a synonym of type is deprecated; in a future version of numpy, it will be understood as (type, (1,)) / '(1,)type'.\n",
      "  _np_qint32 = np.dtype([(\"qint32\", np.int32, 1)])\n",
      "C:\\Users\\Goutham N\\anaconda3\\lib\\site-packages\\tensorflow\\python\\framework\\dtypes.py:525: FutureWarning: Passing (type, 1) or '1type' as a synonym of type is deprecated; in a future version of numpy, it will be understood as (type, (1,)) / '(1,)type'.\n",
      "  np_resource = np.dtype([(\"resource\", np.ubyte, 1)])\n",
      "C:\\Users\\Goutham N\\anaconda3\\lib\\site-packages\\tensorboard\\compat\\tensorflow_stub\\dtypes.py:541: FutureWarning: Passing (type, 1) or '1type' as a synonym of type is deprecated; in a future version of numpy, it will be understood as (type, (1,)) / '(1,)type'.\n",
      "  _np_qint8 = np.dtype([(\"qint8\", np.int8, 1)])\n",
      "C:\\Users\\Goutham N\\anaconda3\\lib\\site-packages\\tensorboard\\compat\\tensorflow_stub\\dtypes.py:542: FutureWarning: Passing (type, 1) or '1type' as a synonym of type is deprecated; in a future version of numpy, it will be understood as (type, (1,)) / '(1,)type'.\n",
      "  _np_quint8 = np.dtype([(\"quint8\", np.uint8, 1)])\n",
      "C:\\Users\\Goutham N\\anaconda3\\lib\\site-packages\\tensorboard\\compat\\tensorflow_stub\\dtypes.py:543: FutureWarning: Passing (type, 1) or '1type' as a synonym of type is deprecated; in a future version of numpy, it will be understood as (type, (1,)) / '(1,)type'.\n",
      "  _np_qint16 = np.dtype([(\"qint16\", np.int16, 1)])\n",
      "C:\\Users\\Goutham N\\anaconda3\\lib\\site-packages\\tensorboard\\compat\\tensorflow_stub\\dtypes.py:544: FutureWarning: Passing (type, 1) or '1type' as a synonym of type is deprecated; in a future version of numpy, it will be understood as (type, (1,)) / '(1,)type'.\n",
      "  _np_quint16 = np.dtype([(\"quint16\", np.uint16, 1)])\n",
      "C:\\Users\\Goutham N\\anaconda3\\lib\\site-packages\\tensorboard\\compat\\tensorflow_stub\\dtypes.py:545: FutureWarning: Passing (type, 1) or '1type' as a synonym of type is deprecated; in a future version of numpy, it will be understood as (type, (1,)) / '(1,)type'.\n",
      "  _np_qint32 = np.dtype([(\"qint32\", np.int32, 1)])\n",
      "C:\\Users\\Goutham N\\anaconda3\\lib\\site-packages\\tensorboard\\compat\\tensorflow_stub\\dtypes.py:550: FutureWarning: Passing (type, 1) or '1type' as a synonym of type is deprecated; in a future version of numpy, it will be understood as (type, (1,)) / '(1,)type'.\n",
      "  np_resource = np.dtype([(\"resource\", np.ubyte, 1)])\n"
     ]
    }
   ],
   "source": [
    "from keras.models import Sequential\n",
    "from keras.layers import Dense\n",
    "from keras.layers import Convolution2D\n",
    "from keras.layers import MaxPooling2D\n",
    "from keras.layers import Flatten"
   ]
  },
  {
   "cell_type": "markdown",
   "metadata": {},
   "source": [
    "# Model Building"
   ]
  },
  {
   "cell_type": "code",
   "execution_count": 2,
   "metadata": {},
   "outputs": [
    {
     "name": "stdout",
     "output_type": "stream",
     "text": [
      "WARNING:tensorflow:From C:\\Users\\Goutham N\\anaconda3\\lib\\site-packages\\keras\\backend\\tensorflow_backend.py:74: The name tf.get_default_graph is deprecated. Please use tf.compat.v1.get_default_graph instead.\n",
      "\n"
     ]
    }
   ],
   "source": [
    "model=Sequential()"
   ]
  },
  {
   "cell_type": "code",
   "execution_count": 3,
   "metadata": {},
   "outputs": [
    {
     "name": "stdout",
     "output_type": "stream",
     "text": [
      "WARNING:tensorflow:From C:\\Users\\Goutham N\\anaconda3\\lib\\site-packages\\keras\\backend\\tensorflow_backend.py:517: The name tf.placeholder is deprecated. Please use tf.compat.v1.placeholder instead.\n",
      "\n",
      "WARNING:tensorflow:From C:\\Users\\Goutham N\\anaconda3\\lib\\site-packages\\keras\\backend\\tensorflow_backend.py:4138: The name tf.random_uniform is deprecated. Please use tf.random.uniform instead.\n",
      "\n"
     ]
    }
   ],
   "source": [
    "model.add(Convolution2D(32,(3,3),input_shape=(64,64,3)))"
   ]
  },
  {
   "cell_type": "code",
   "execution_count": 4,
   "metadata": {},
   "outputs": [
    {
     "name": "stdout",
     "output_type": "stream",
     "text": [
      "WARNING:tensorflow:From C:\\Users\\Goutham N\\anaconda3\\lib\\site-packages\\keras\\backend\\tensorflow_backend.py:3976: The name tf.nn.max_pool is deprecated. Please use tf.nn.max_pool2d instead.\n",
      "\n"
     ]
    }
   ],
   "source": [
    "model.add(MaxPooling2D(pool_size=(2,2)))"
   ]
  },
  {
   "cell_type": "code",
   "execution_count": 5,
   "metadata": {},
   "outputs": [],
   "source": [
    "#input layer \n",
    "model.add(Flatten())"
   ]
  },
  {
   "cell_type": "code",
   "execution_count": 6,
   "metadata": {},
   "outputs": [
    {
     "name": "stderr",
     "output_type": "stream",
     "text": [
      "C:\\Users\\Goutham N\\anaconda3\\lib\\site-packages\\ipykernel_launcher.py:2: UserWarning: Update your `Dense` call to the Keras 2 API: `Dense(units=128, activation=\"relu\", kernel_initializer=\"uniform\")`\n",
      "  \n"
     ]
    }
   ],
   "source": [
    "#hidden layer\n",
    "model.add(Dense(units=128,init='uniform',activation=\"relu\"))"
   ]
  },
  {
   "cell_type": "code",
   "execution_count": 7,
   "metadata": {},
   "outputs": [],
   "source": [
    "#output layer\n",
    "model.add(Dense(units=4,activation=\"softmax\"))"
   ]
  },
  {
   "cell_type": "markdown",
   "metadata": {},
   "source": [
    "# Preprocessing image"
   ]
  },
  {
   "cell_type": "code",
   "execution_count": 8,
   "metadata": {},
   "outputs": [],
   "source": [
    "from keras.preprocessing.image import ImageDataGenerator"
   ]
  },
  {
   "cell_type": "code",
   "execution_count": 9,
   "metadata": {},
   "outputs": [],
   "source": [
    "train_datagen=ImageDataGenerator(rescale=1./255,shear_range=0.2,zoom_range=0.2,horizontal_flip=True)"
   ]
  },
  {
   "cell_type": "code",
   "execution_count": 10,
   "metadata": {},
   "outputs": [
    {
     "name": "stdout",
     "output_type": "stream",
     "text": [
      "Found 279 images belonging to 4 classes.\n"
     ]
    }
   ],
   "source": [
    "x_train=train_datagen.flow_from_directory(r'final_dataset/trainset',target_size=(64,64),batch_size=32,class_mode=\"categorical\")"
   ]
  },
  {
   "cell_type": "code",
   "execution_count": 11,
   "metadata": {},
   "outputs": [
    {
     "name": "stdout",
     "output_type": "stream",
     "text": [
      "{'apple': 0, 'banana': 1, 'mango': 2, 'orange': 3}\n"
     ]
    }
   ],
   "source": [
    "print(x_train.class_indices)"
   ]
  },
  {
   "cell_type": "code",
   "execution_count": 12,
   "metadata": {},
   "outputs": [],
   "source": [
    "test_datagen=ImageDataGenerator(rescale=1./255)"
   ]
  },
  {
   "cell_type": "code",
   "execution_count": 13,
   "metadata": {},
   "outputs": [
    {
     "name": "stdout",
     "output_type": "stream",
     "text": [
      "Found 120 images belonging to 4 classes.\n"
     ]
    }
   ],
   "source": [
    "x_test=test_datagen.flow_from_directory(r'final_dataset/testset',target_size=(64,64),batch_size=32,class_mode=\"categorical\")"
   ]
  },
  {
   "cell_type": "markdown",
   "metadata": {},
   "source": [
    "# Training model"
   ]
  },
  {
   "cell_type": "code",
   "execution_count": 14,
   "metadata": {},
   "outputs": [
    {
     "name": "stdout",
     "output_type": "stream",
     "text": [
      "WARNING:tensorflow:From C:\\Users\\Goutham N\\anaconda3\\lib\\site-packages\\keras\\optimizers.py:790: The name tf.train.Optimizer is deprecated. Please use tf.compat.v1.train.Optimizer instead.\n",
      "\n",
      "WARNING:tensorflow:From C:\\Users\\Goutham N\\anaconda3\\lib\\site-packages\\keras\\backend\\tensorflow_backend.py:3295: The name tf.log is deprecated. Please use tf.math.log instead.\n",
      "\n"
     ]
    }
   ],
   "source": [
    "model.compile(optimizer='adam',loss='categorical_crossentropy',metrics=['accuracy'])"
   ]
  },
  {
   "cell_type": "code",
   "execution_count": 15,
   "metadata": {},
   "outputs": [
    {
     "name": "stdout",
     "output_type": "stream",
     "text": [
      "WARNING:tensorflow:From C:\\Users\\Goutham N\\anaconda3\\lib\\site-packages\\tensorflow\\python\\ops\\math_grad.py:1250: add_dispatch_support.<locals>.wrapper (from tensorflow.python.ops.array_ops) is deprecated and will be removed in a future version.\n",
      "Instructions for updating:\n",
      "Use tf.where in 2.0, which has the same broadcast rule as np.where\n",
      "WARNING:tensorflow:From C:\\Users\\Goutham N\\anaconda3\\lib\\site-packages\\keras\\backend\\tensorflow_backend.py:986: The name tf.assign_add is deprecated. Please use tf.compat.v1.assign_add instead.\n",
      "\n",
      "Epoch 1/31\n",
      "4/9 [============>.................] - ETA: 2s - loss: 7.1010 - acc: 0.2422"
     ]
    },
    {
     "name": "stderr",
     "output_type": "stream",
     "text": [
      "C:\\Users\\Goutham N\\anaconda3\\lib\\site-packages\\PIL\\Image.py:932: UserWarning: Palette images with Transparency expressed in bytes should be converted to RGBA images\n",
      "  \"Palette images with Transparency expressed in bytes should be \"\n"
     ]
    },
    {
     "name": "stdout",
     "output_type": "stream",
     "text": [
      "9/9 [==============================] - 3s 353ms/step - loss: 7.8959 - acc: 0.3048 - val_loss: 8.3075 - val_acc: 0.3750\n",
      "Epoch 2/31\n",
      "9/9 [==============================] - 3s 315ms/step - loss: 8.2634 - acc: 0.4429 - val_loss: 8.5640 - val_acc: 0.3250\n",
      "Epoch 3/31\n",
      "9/9 [==============================] - 3s 346ms/step - loss: 8.1853 - acc: 0.4466 - val_loss: 8.2031 - val_acc: 0.4333\n",
      "Epoch 4/31\n",
      "9/9 [==============================] - 3s 326ms/step - loss: 7.9767 - acc: 0.4782 - val_loss: 8.1756 - val_acc: 0.4333\n",
      "Epoch 5/31\n",
      "9/9 [==============================] - 3s 321ms/step - loss: 4.0497 - acc: 0.4863 - val_loss: 1.7677 - val_acc: 0.4583\n",
      "Epoch 6/31\n",
      "9/9 [==============================] - 3s 326ms/step - loss: 1.0706 - acc: 0.5583 - val_loss: 1.5463 - val_acc: 0.5250\n",
      "Epoch 7/31\n",
      "9/9 [==============================] - 3s 325ms/step - loss: 0.8581 - acc: 0.6601 - val_loss: 1.0314 - val_acc: 0.6083\n",
      "Epoch 8/31\n",
      "9/9 [==============================] - 3s 331ms/step - loss: 0.7292 - acc: 0.6732 - val_loss: 0.9788 - val_acc: 0.6000\n",
      "Epoch 9/31\n",
      "9/9 [==============================] - 3s 322ms/step - loss: 0.6165 - acc: 0.7326 - val_loss: 0.9701 - val_acc: 0.6250\n",
      "Epoch 10/31\n",
      "9/9 [==============================] - 3s 321ms/step - loss: 0.6293 - acc: 0.7453 - val_loss: 0.8771 - val_acc: 0.6500\n",
      "Epoch 11/31\n",
      "9/9 [==============================] - 3s 329ms/step - loss: 0.5177 - acc: 0.7591 - val_loss: 0.9202 - val_acc: 0.6333\n",
      "Epoch 12/31\n",
      "9/9 [==============================] - 4s 412ms/step - loss: 0.4642 - acc: 0.8025 - val_loss: 0.9206 - val_acc: 0.6167\n",
      "Epoch 13/31\n",
      "9/9 [==============================] - 3s 335ms/step - loss: 0.4425 - acc: 0.8187 - val_loss: 0.9317 - val_acc: 0.6333\n",
      "Epoch 14/31\n",
      "9/9 [==============================] - 4s 423ms/step - loss: 0.3904 - acc: 0.8558 - val_loss: 0.9114 - val_acc: 0.6250\n",
      "Epoch 15/31\n",
      "9/9 [==============================] - 3s 350ms/step - loss: 0.3798 - acc: 0.8511 - val_loss: 0.9196 - val_acc: 0.6333\n",
      "Epoch 16/31\n",
      "9/9 [==============================] - 3s 320ms/step - loss: 0.3712 - acc: 0.8547 - val_loss: 0.9181 - val_acc: 0.6500\n",
      "Epoch 17/31\n",
      "9/9 [==============================] - 3s 318ms/step - loss: 0.3426 - acc: 0.8894 - val_loss: 0.9950 - val_acc: 0.6167\n",
      "Epoch 18/31\n",
      "9/9 [==============================] - 3s 299ms/step - loss: 0.3002 - acc: 0.9000 - val_loss: 0.9411 - val_acc: 0.6500\n",
      "Epoch 19/31\n",
      "9/9 [==============================] - 3s 278ms/step - loss: 0.3472 - acc: 0.9011 - val_loss: 0.9710 - val_acc: 0.6333\n",
      "Epoch 20/31\n",
      "9/9 [==============================] - 3s 288ms/step - loss: 0.3092 - acc: 0.9012 - val_loss: 1.0016 - val_acc: 0.6250\n",
      "Epoch 21/31\n",
      "9/9 [==============================] - 3s 288ms/step - loss: 0.2698 - acc: 0.9140 - val_loss: 1.0557 - val_acc: 0.6083\n",
      "Epoch 22/31\n",
      "9/9 [==============================] - 3s 283ms/step - loss: 0.2978 - acc: 0.8965 - val_loss: 1.0341 - val_acc: 0.6167\n",
      "Epoch 23/31\n",
      "9/9 [==============================] - 3s 303ms/step - loss: 0.2620 - acc: 0.9047 - val_loss: 1.1352 - val_acc: 0.6083\n",
      "Epoch 24/31\n",
      "9/9 [==============================] - 3s 375ms/step - loss: 0.2554 - acc: 0.9129 - val_loss: 0.9797 - val_acc: 0.6583\n",
      "Epoch 25/31\n",
      "9/9 [==============================] - 3s 330ms/step - loss: 0.2199 - acc: 0.9349 - val_loss: 1.0081 - val_acc: 0.6833\n",
      "Epoch 26/31\n",
      "9/9 [==============================] - 3s 353ms/step - loss: 0.2462 - acc: 0.9209 - val_loss: 1.1772 - val_acc: 0.6083\n",
      "Epoch 27/31\n",
      "9/9 [==============================] - 3s 388ms/step - loss: 0.2223 - acc: 0.9418 - val_loss: 1.1162 - val_acc: 0.6833\n",
      "Epoch 28/31\n",
      "9/9 [==============================] - 3s 280ms/step - loss: 0.2263 - acc: 0.9129 - val_loss: 1.1253 - val_acc: 0.6500\n",
      "Epoch 29/31\n",
      "9/9 [==============================] - 3s 361ms/step - loss: 0.2011 - acc: 0.9361 - val_loss: 1.1465 - val_acc: 0.6333\n",
      "Epoch 30/31\n",
      "9/9 [==============================] - 3s 356ms/step - loss: 0.2297 - acc: 0.9082 - val_loss: 1.1384 - val_acc: 0.6917\n",
      "Epoch 31/31\n",
      "9/9 [==============================] - 3s 376ms/step - loss: 0.1914 - acc: 0.9383 - val_loss: 1.1869 - val_acc: 0.6250\n"
     ]
    },
    {
     "data": {
      "text/plain": [
       "<keras.callbacks.History at 0x21c5ae8ca48>"
      ]
     },
     "execution_count": 15,
     "metadata": {},
     "output_type": "execute_result"
    }
   ],
   "source": [
    "#steps per epoch=279/32;validation_step=120/32\n",
    "model.fit_generator(x_train,steps_per_epoch=9,epochs=31,validation_data=x_test,validation_steps=4)"
   ]
  },
  {
   "cell_type": "code",
   "execution_count": 21,
   "metadata": {},
   "outputs": [],
   "source": [
    "model.save(\"fruit_predict.h5\")"
   ]
  },
  {
   "cell_type": "code",
   "execution_count": null,
   "metadata": {},
   "outputs": [],
   "source": [
    "#working fine# [update-GN 04:42]"
   ]
  }
 ],
 "metadata": {
  "kernelspec": {
   "display_name": "Python 3",
   "language": "python",
   "name": "python3"
  },
  "language_info": {
   "codemirror_mode": {
    "name": "ipython",
    "version": 3
   },
   "file_extension": ".py",
   "mimetype": "text/x-python",
   "name": "python",
   "nbconvert_exporter": "python",
   "pygments_lexer": "ipython3",
   "version": "3.7.6"
  }
 },
 "nbformat": 4,
 "nbformat_minor": 4
}
